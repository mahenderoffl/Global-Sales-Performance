{
 "cells": [
  {
   "cell_type": "markdown",
   "id": "d9ec3620",
   "metadata": {},
   "source": [
    "# 🌍 Global Sales Performance Dashboard\n",
    "\n",
    "This notebook provides an interactive dashboard for analyzing global sales performance across continents and regions.\n",
    "\n",
    "## Features:\n",
    "- Geographic sales visualization with interactive world maps\n",
    "- Regional comparison charts and trends\n",
    "- Top performer analysis\n",
    "- Key performance indicators\n",
    "- Interactive filters for deep-dive analysis"
   ]
  },
  {
   "cell_type": "markdown",
   "id": "e5ffd567",
   "metadata": {},
   "source": [
    "## Setup and Data Loading"
   ]
  },
  {
   "cell_type": "code",
   "execution_count": null,
   "id": "d0f40eca",
   "metadata": {},
   "outputs": [],
   "source": [
    "# Import required libraries\n",
    "import pandas as pd\n",
    "import numpy as np\n",
    "import plotly.express as px\n",
    "import plotly.graph_objects as go\n",
    "from plotly.subplots import make_subplots\n",
    "import warnings\n",
    "warnings.filterwarnings('ignore')\n",
    "\n",
    "# Import our custom modules\n",
    "import sys\n",
    "sys.path.append('../src')\n",
    "from data_processor import SalesDataProcessor, create_sample_data\n",
    "from visualizations import SalesVisualizer\n",
    "\n",
    "print(\"Libraries imported successfully! ✅\")"
   ]
  },
  {
   "cell_type": "code",
   "execution_count": null,
   "id": "0acb5ae7",
   "metadata": {},
   "outputs": [],
   "source": [
    "# Initialize components\n",
    "processor = SalesDataProcessor()\n",
    "visualizer = SalesVisualizer()\n",
    "\n",
    "# Load and process data\n",
    "print(\"Processing sales data...\")\n",
    "data_dict = processor.process_full_pipeline('../data/sample_sales_data.csv')\n",
    "\n",
    "print(f\"✅ Data loaded successfully!\")\n",
    "print(f\"📊 Total records: {len(data_dict['cleaned_data']):,}\")\n",
    "print(f\"🌍 Countries: {len(data_dict['country_data'])}\")\n",
    "print(f\"🗺️  Regions: {len(data_dict['continent_data'])}\")\n",
    "print(f\"📅 Year range: {data_dict['cleaned_data']['Year'].min()} - {data_dict['cleaned_data']['Year'].max()}\")"
   ]
  },
  {
   "cell_type": "markdown",
   "id": "b0642601",
   "metadata": {},
   "source": [
    "## Key Performance Indicators"
   ]
  },
  {
   "cell_type": "code",
   "execution_count": null,
   "id": "50f2dd7b",
   "metadata": {},
   "outputs": [],
   "source": [
    "# Calculate and display KPIs\n",
    "kpis = visualizer.create_kpi_cards(data_dict)\n",
    "\n",
    "def format_number(num):\n",
    "    if num >= 1e9:\n",
    "        return f\"${num/1e9:.2f}B\"\n",
    "    elif num >= 1e6:\n",
    "        return f\"${num/1e6:.2f}M\"\n",
    "    elif num >= 1e3:\n",
    "        return f\"${num/1e3:.0f}K\"\n",
    "    else:\n",
    "        return f\"${num:.0f}\"\n",
    "\n",
    "print(\"📈 KEY PERFORMANCE INDICATORS\")\n",
    "print(\"=\" * 50)\n",
    "print(f\"💰 Total Sales: {format_number(kpis.get('total_sales', 0))}\")\n",
    "print(f\"💵 Total Profit: {format_number(kpis.get('total_profit', 0))}\")\n",
    "print(f\"📊 Profit Margin: {kpis.get('profit_margin', 0):.1f}%\")\n",
    "print(f\"🌍 Countries: {kpis.get('total_countries', 0):,}\")\n",
    "print(f\"🗺️  Regions: {kpis.get('total_regions', 0):,}\")\n",
    "print(f\"📈 Growth Rate: {kpis.get('growth_rate', 0):.1f}%\")\n",
    "print(f\"🎯 Avg Sales/Country: {format_number(kpis.get('avg_sales_per_country', 0))}\")"
   ]
  },
  {
   "cell_type": "markdown",
   "id": "e46224e9",
   "metadata": {},
   "source": [
    "## Geographic Sales Distribution"
   ]
  },
  {
   "cell_type": "code",
   "execution_count": null,
   "id": "19cb706b",
   "metadata": {},
   "outputs": [],
   "source": [
    "# Create and display world map\n",
    "print(\"🗺️ Creating interactive world map...\")\n",
    "world_map = visualizer.create_world_map(data_dict['country_data'])\n",
    "world_map.show()"
   ]
  },
  {
   "cell_type": "markdown",
   "id": "fca0aab3",
   "metadata": {},
   "source": [
    "## Regional Analysis"
   ]
  },
  {
   "cell_type": "code",
   "execution_count": null,
   "id": "5e9cdeee",
   "metadata": {},
   "outputs": [],
   "source": [
    "# Regional bar chart and pie chart\n",
    "fig_bar = visualizer.create_continent_bar_chart(data_dict['continent_data'])\n",
    "fig_pie = visualizer.create_sales_distribution_pie(data_dict['continent_data'])\n",
    "\n",
    "print(\"📊 Regional Sales Analysis\")\n",
    "fig_bar.show()\n",
    "fig_pie.show()"
   ]
  },
  {
   "cell_type": "code",
   "execution_count": null,
   "id": "25708001",
   "metadata": {},
   "outputs": [],
   "source": [
    "# Regional summary table\n",
    "print(\"📋 Regional Summary Table\")\n",
    "regional_summary = data_dict['continent_data'].copy()\n",
    "regional_summary['Total_Sales'] = regional_summary['Total_Sales'].apply(lambda x: f\"${x:,.0f}\")\n",
    "regional_summary['Average_Sales'] = regional_summary['Average_Sales'].apply(lambda x: f\"${x:,.0f}\")\n",
    "regional_summary['Total_Profit'] = regional_summary['Total_Profit'].apply(lambda x: f\"${x:,.0f}\")\n",
    "\n",
    "display(regional_summary)"
   ]
  },
  {
   "cell_type": "markdown",
   "id": "17f90386",
   "metadata": {},
   "source": [
    "## Sales Trends Over Time"
   ]
  },
  {
   "cell_type": "code",
   "execution_count": null,
   "id": "248dad11",
   "metadata": {},
   "outputs": [],
   "source": [
    "# Growth trends chart\n",
    "print(\"📈 Creating sales trends chart...\")\n",
    "if not data_dict['growth_trends'].empty:\n",
    "    growth_chart = visualizer.create_growth_trend_chart(data_dict['growth_trends'])\n",
    "    growth_chart.show()\n",
    "    \n",
    "    # Show yearly summary\n",
    "    yearly_summary = data_dict['growth_trends'].groupby('Year')['Sales'].sum().reset_index()\n",
    "    yearly_summary['Sales'] = yearly_summary['Sales'].apply(lambda x: f\"${x:,.0f}\")\n",
    "    print(\"\\n📅 Yearly Sales Summary:\")\n",
    "    display(yearly_summary)\n",
    "else:\n",
    "    print(\"⚠️ No time series data available for trend analysis\")"
   ]
  },
  {
   "cell_type": "markdown",
   "id": "37026416",
   "metadata": {},
   "source": [
    "## Top Performers Analysis"
   ]
  },
  {
   "cell_type": "code",
   "execution_count": null,
   "id": "d27c9414",
   "metadata": {},
   "outputs": [],
   "source": [
    "# Top countries chart\n",
    "print(\"🏆 Top Performing Countries\")\n",
    "top_countries_chart = visualizer.create_top_performers_chart(\n",
    "    data_dict['top_countries'], \n",
    "    'Top 10 Countries by Sales', \n",
    "    'Country', \n",
    "    'Total_Sales'\n",
    ")\n",
    "top_countries_chart.show()"
   ]
  },
  {
   "cell_type": "code",
   "execution_count": null,
   "id": "71e6c805",
   "metadata": {},
   "outputs": [],
   "source": [
    "# Profit vs Sales relationship\n",
    "print(\"💰 Sales vs Profit Analysis\")\n",
    "profit_scatter = visualizer.create_profit_vs_sales_scatter(data_dict['country_data'])\n",
    "profit_scatter.show()"
   ]
  },
  {
   "cell_type": "code",
   "execution_count": null,
   "id": "ac98202f",
   "metadata": {},
   "outputs": [],
   "source": [
    "# Top performers table\n",
    "print(\"📊 Top 15 Countries Performance Table\")\n",
    "top_performers = data_dict['country_data'].head(15).copy()\n",
    "top_performers['Total_Sales'] = top_performers['Total_Sales'].apply(lambda x: f\"${x:,.0f}\")\n",
    "top_performers['Average_Sales'] = top_performers['Average_Sales'].apply(lambda x: f\"${x:,.0f}\")\n",
    "top_performers['Total_Profit'] = top_performers['Total_Profit'].apply(lambda x: f\"${x:,.0f}\")\n",
    "\n",
    "# Calculate profit margin\n",
    "original_data = data_dict['country_data'].head(15)\n",
    "top_performers['Profit_Margin'] = (original_data['Total_Profit'] / original_data['Total_Sales'] * 100).apply(lambda x: f\"{x:.1f}%\")\n",
    "\n",
    "display(top_performers)"
   ]
  },
  {
   "cell_type": "markdown",
   "id": "6bd30073",
   "metadata": {},
   "source": [
    "## Interactive Filtering (Optional)"
   ]
  },
  {
   "cell_type": "code",
   "execution_count": null,
   "id": "ca248bca",
   "metadata": {},
   "outputs": [],
   "source": [
    "# Interactive widgets for filtering (requires ipywidgets)\n",
    "try:\n",
    "    from ipywidgets import interact, SelectMultiple, IntSlider\n",
    "    \n",
    "    @interact\n",
    "    def filter_and_display(\n",
    "        regions=SelectMultiple(\n",
    "            options=list(data_dict['cleaned_data']['Region'].unique()),\n",
    "            value=list(data_dict['cleaned_data']['Region'].unique()),\n",
    "            description='Regions:'\n",
    "        ),\n",
    "        year_range=IntSlider(\n",
    "            min=data_dict['cleaned_data']['Year'].min(),\n",
    "            max=data_dict['cleaned_data']['Year'].max(),\n",
    "            value=data_dict['cleaned_data']['Year'].max(),\n",
    "            description='Latest Year:'\n",
    "        )\n",
    "    ):\n",
    "        # Filter data based on selections\n",
    "        filtered_data = data_dict['cleaned_data'][\n",
    "            (data_dict['cleaned_data']['Region'].isin(regions)) &\n",
    "            (data_dict['cleaned_data']['Year'] <= year_range)\n",
    "        ]\n",
    "        \n",
    "        if not filtered_data.empty:\n",
    "            # Show filtered summary\n",
    "            total_sales = filtered_data['Sales'].sum()\n",
    "            total_profit = filtered_data['Profit'].sum()\n",
    "            countries = filtered_data['Country'].nunique()\n",
    "            \n",
    "            print(f\"📊 Filtered Results:\")\n",
    "            print(f\"💰 Total Sales: {format_number(total_sales)}\")\n",
    "            print(f\"💵 Total Profit: {format_number(total_profit)}\")\n",
    "            print(f\"🌍 Countries: {countries}\")\n",
    "            \n",
    "            # Quick regional breakdown\n",
    "            regional_breakdown = filtered_data.groupby('Region')['Sales'].sum().sort_values(ascending=False)\n",
    "            print(f\"\\n🗺️ Regional Breakdown:\")\n",
    "            for region, sales in regional_breakdown.items():\n",
    "                print(f\"  {region}: {format_number(sales)}\")\n",
    "        else:\n",
    "            print(\"⚠️ No data matches the selected filters\")\n",
    "            \n",
    "except ImportError:\n",
    "    print(\"💡 Install ipywidgets for interactive filtering: pip install ipywidgets\")\n",
    "    print(\"    Then restart the kernel and run this cell again.\")"
   ]
  },
  {
   "cell_type": "markdown",
   "id": "2566c443",
   "metadata": {},
   "source": [
    "## Data Export Options"
   ]
  },
  {
   "cell_type": "code",
   "execution_count": null,
   "id": "9903122d",
   "metadata": {},
   "outputs": [],
   "source": [
    "# Export options\n",
    "print(\"💾 Data Export Options\")\n",
    "print(\"=\" * 30)\n",
    "\n",
    "# Export regional summary\n",
    "data_dict['continent_data'].to_csv('../data/regional_summary.csv', index=False)\n",
    "print(\"✅ Regional summary exported to: ../data/regional_summary.csv\")\n",
    "\n",
    "# Export country summary\n",
    "data_dict['country_data'].to_csv('../data/country_summary.csv', index=False)\n",
    "print(\"✅ Country summary exported to: ../data/country_summary.csv\")\n",
    "\n",
    "# Export growth trends (if available)\n",
    "if not data_dict['growth_trends'].empty:\n",
    "    data_dict['growth_trends'].to_csv('../data/growth_trends.csv', index=False)\n",
    "    print(\"✅ Growth trends exported to: ../data/growth_trends.csv\")\n",
    "\n",
    "print(\"\\n📁 All exports saved to the data folder.\")"
   ]
  },
  {
   "cell_type": "markdown",
   "id": "68acfa2d",
   "metadata": {},
   "source": [
    "## Custom Analysis Section"
   ]
  },
  {
   "cell_type": "code",
   "execution_count": null,
   "id": "9bf4042c",
   "metadata": {},
   "outputs": [],
   "source": [
    "# Add your custom analysis here\n",
    "print(\"🔍 Custom Analysis Section\")\n",
    "print(\"This cell is for your own custom analysis and visualizations.\")\n",
    "print(\"You can access all the processed data through the 'data_dict' variable.\")\n",
    "print(\"\\nAvailable data keys:\")\n",
    "for key in data_dict.keys():\n",
    "    print(f\"  - {key}: {type(data_dict[key]).__name__} with shape {data_dict[key].shape if hasattr(data_dict[key], 'shape') else 'N/A'}\")\n",
    "\n",
    "# Example custom analysis:\n",
    "# Find the most profitable product category by region\n",
    "if 'Product_Category' in data_dict['cleaned_data'].columns:\n",
    "    product_analysis = data_dict['cleaned_data'].groupby(['Region', 'Product_Category']).agg({\n",
    "        'Sales': 'sum',\n",
    "        'Profit': 'sum'\n",
    "    }).reset_index()\n",
    "    \n",
    "    print(\"\\n🛍️ Most Profitable Product by Region:\")\n",
    "    for region in product_analysis['Region'].unique():\n",
    "        region_data = product_analysis[product_analysis['Region'] == region]\n",
    "        top_product = region_data.loc[region_data['Profit'].idxmax()]\n",
    "        print(f\"  {region}: {top_product['Product_Category']} (${top_product['Profit']:,.0f} profit)\")"
   ]
  },
  {
   "cell_type": "markdown",
   "id": "39826d18",
   "metadata": {},
   "source": [
    "---\n",
    "\n",
    "## 👨‍💻 Developer\n",
    "\n",
    "**Developed By:** Mahender Banoth (IIT Patna) \n",
    "\n",
    "<div style=\"display: flex; align-items: center; gap: 10px; margin-top: 10px;\">\n",
    "    <img src=\"https://upload.wikimedia.org/wikipedia/commons/thumb/a/a5/Instagram_icon.png/1024px-Instagram_icon.png\" width=\"20\" height=\"20\" alt=\"Instagram\">\n",
    "    <span style=\"font-weight: 600; color: #E4405F;\">@mahender_hustles</span>\n",
    "</div>\n",
    "\n",
    "---"
   ]
  }
 ],
 "metadata": {
  "language_info": {
   "name": "python"
  }
 },
 "nbformat": 4,
 "nbformat_minor": 5
}
